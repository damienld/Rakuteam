{
  "nbformat": 4,
  "nbformat_minor": 0,
  "metadata": {
    "colab": {
      "name": "4_Model_Reseaux_Text.ipynb",
      "provenance": [],
      "collapsed_sections": []
    },
    "kernelspec": {
      "display_name": "Python 3",
      "language": "python",
      "name": "python3"
    },
    "language_info": {
      "codemirror_mode": {
        "name": "ipython",
        "version": 3
      },
      "file_extension": ".py",
      "mimetype": "text/x-python",
      "name": "python",
      "nbconvert_exporter": "python",
      "pygments_lexer": "ipython3",
      "version": "3.8.5"
    }
  },
  "cells": [
    {
      "cell_type": "code",
      "metadata": {
        "colab": {
          "base_uri": "https://localhost:8080/"
        },
        "id": "AxT84Bubh0Wh",
        "outputId": "2ca09479-440e-40c0-c363-e463bfcceb8d"
      },
      "source": [
        "#CONNEXION à google drive\n",
        "from google.colab import drive\n",
        "\n",
        "drive.mount('/Drive')"
      ],
      "execution_count": 1,
      "outputs": [
        {
          "output_type": "stream",
          "name": "stdout",
          "text": [
            "Mounted at /Drive\n"
          ]
        }
      ]
    },
    {
      "cell_type": "code",
      "metadata": {
        "id": "9swXtIlEuQfK"
      },
      "source": [
        "import pandas as pd"
      ],
      "execution_count": 2,
      "outputs": []
    },
    {
      "cell_type": "code",
      "metadata": {
        "id": "5fXGnjAtnyO3"
      },
      "source": [
        "import matplotlib.pyplot as plt\n",
        "plt.style.use('ggplot')\n",
        "\n",
        "def plot_history(history):\n",
        "    acc = history.history['accuracy']\n",
        "    val_acc = history.history['val_accuracy']\n",
        "    loss = history.history['loss']\n",
        "    val_loss = history.history['val_loss']\n",
        "    x = range(1, len(acc) + 1)\n",
        "\n",
        "    plt.figure(figsize=(12, 5))\n",
        "    plt.subplot(1, 2, 1)\n",
        "    plt.plot(x, acc, 'b', label='Training acc')\n",
        "    plt.plot(x, val_acc, 'r', label='Validation acc')\n",
        "    plt.title('Training and validation accuracy')\n",
        "    plt.legend()\n",
        "    plt.subplot(1, 2, 2)\n",
        "    plt.plot(x, loss, 'b', label='Training loss')\n",
        "    plt.plot(x, val_loss, 'r', label='Validation loss')\n",
        "    plt.title('Training and validation loss')\n",
        "    plt.legend()"
      ],
      "execution_count": 3,
      "outputs": []
    },
    {
      "cell_type": "code",
      "metadata": {
        "id": "lUuiMGKuBmxK"
      },
      "source": [
        "#PARAMETERS before launching\n",
        "#define if we should keep the part \"X_test_challenge\" from the loaded file or ignore it\n",
        "Ignore_X_test_challenge = True\n",
        "Lemmatization = False\n",
        "FilePathForHD5=\"/Drive/My Drive/Projet Rakuten/text-dnn-{epoch:02d}-{val_accuracy:.2f}.hdf5\""
      ],
      "execution_count": 19,
      "outputs": []
    },
    {
      "cell_type": "code",
      "metadata": {
        "colab": {
          "base_uri": "https://localhost:8080/",
          "height": 203
        },
        "id": "vGx4F4neiDF2",
        "outputId": "16e80c6c-286d-434f-9c6f-33af8e08e65f"
      },
      "source": [
        "#CHARGEMENT des fichiers\n",
        "#dataset_cleaned.csv dot avoir été généré depuis le notebook \"cleaning\"\n",
        "import re  \n",
        "import requests\n",
        "import io\n",
        "\n",
        "url = \"https://raw.githubusercontent.com/JulienJ-44/rakuteam/main/Datasets/dataset_challenge_cleaned.csv\"\n",
        "download = requests.get(url).content\n",
        "df=pd.read_csv(io.StringIO(download.decode('utf-8')), index_col=0)\n",
        "df=df.drop(\"Unnamed: 0.1\", axis=1)\n",
        "df.head()"
      ],
      "execution_count": 29,
      "outputs": [
        {
          "output_type": "execute_result",
          "data": {
            "text/html": [
              "<div>\n",
              "<style scoped>\n",
              "    .dataframe tbody tr th:only-of-type {\n",
              "        vertical-align: middle;\n",
              "    }\n",
              "\n",
              "    .dataframe tbody tr th {\n",
              "        vertical-align: top;\n",
              "    }\n",
              "\n",
              "    .dataframe thead th {\n",
              "        text-align: right;\n",
              "    }\n",
              "</style>\n",
              "<table border=\"1\" class=\"dataframe\">\n",
              "  <thead>\n",
              "    <tr style=\"text-align: right;\">\n",
              "      <th></th>\n",
              "      <th>designation</th>\n",
              "      <th>description</th>\n",
              "      <th>productid</th>\n",
              "      <th>prdtypecode</th>\n",
              "    </tr>\n",
              "  </thead>\n",
              "  <tbody>\n",
              "    <tr>\n",
              "      <th>0</th>\n",
              "      <td>olivia personalisiertes notizbuch 150 seiten p...</td>\n",
              "      <td>NaN</td>\n",
              "      <td>3804725264</td>\n",
              "      <td>10.0</td>\n",
              "    </tr>\n",
              "    <tr>\n",
              "      <th>1</th>\n",
              "      <td>journal arts numéro 133 28/09/2001 art marche ...</td>\n",
              "      <td>NaN</td>\n",
              "      <td>436067568</td>\n",
              "      <td>2280.0</td>\n",
              "    </tr>\n",
              "    <tr>\n",
              "      <th>2</th>\n",
              "      <td>grand stylet ergonomique bleu gamepad nintendo...</td>\n",
              "      <td>pilot style touch pen marque speedlink stylet ...</td>\n",
              "      <td>201115110</td>\n",
              "      <td>50.0</td>\n",
              "    </tr>\n",
              "    <tr>\n",
              "      <th>3</th>\n",
              "      <td>peluche donald europe disneyland 2000 marionne...</td>\n",
              "      <td>NaN</td>\n",
              "      <td>50418756</td>\n",
              "      <td>1280.0</td>\n",
              "    </tr>\n",
              "    <tr>\n",
              "      <th>4</th>\n",
              "      <td>guerre tuques</td>\n",
              "      <td>luc idées grandeur veut organiser jeu guerre b...</td>\n",
              "      <td>278535884</td>\n",
              "      <td>2705.0</td>\n",
              "    </tr>\n",
              "  </tbody>\n",
              "</table>\n",
              "</div>"
            ],
            "text/plain": [
              "                                         designation  ... prdtypecode\n",
              "0  olivia personalisiertes notizbuch 150 seiten p...  ...        10.0\n",
              "1  journal arts numéro 133 28/09/2001 art marche ...  ...      2280.0\n",
              "2  grand stylet ergonomique bleu gamepad nintendo...  ...        50.0\n",
              "3  peluche donald europe disneyland 2000 marionne...  ...      1280.0\n",
              "4                                      guerre tuques  ...      2705.0\n",
              "\n",
              "[5 rows x 4 columns]"
            ]
          },
          "metadata": {},
          "execution_count": 29
        }
      ]
    },
    {
      "cell_type": "code",
      "metadata": {
        "colab": {
          "base_uri": "https://localhost:8080/",
          "height": 220
        },
        "id": "UEPsWf7DBmxT",
        "outputId": "7dbefadf-8a0f-4141-e82a-f164f31654fe"
      },
      "source": [
        "if (Ignore_X_test_challenge):\n",
        "    df =df.dropna(subset=['prdtypecode'])\n",
        "print(\"Taille du dataframe:\",len(df))\n",
        "#y = pd.read_csv(\\\"/Drive/My Drive/Colab/Y_train_CVw08PX.csv\\\", index_col=0) \\r\\n\",\n",
        "#path = '/Drive/My Drive/Projet Rakuten'\n",
        "#df = pd.read_csv(f'{path}/dataset_cleaned.csv', index_col=0) \n",
        "df = df.replace({'prdtypecode': {10: 1, 2280:2,   50:3, 1280:4, 2705:5, 2522:6, 2582:7, 1560:8, 1281:9, 1920:10, 2403:11,\n",
        "       1140:12, 2583:13, 1180:14, 1300:15, 2462:16, 1160:17, 2060:18,   40:19,   60:20, 1320:21, 1302:22,\n",
        "       2220:23, 2905:24, 2585:25, 1940:26, 1301:0}})\n",
        "#valeurs MANQUANTES\n",
        "df['description']=df['description'].fillna(\"\")\n",
        "df['designation']=df['designation'].fillna(\"\")\n",
        "df['description']=df['description'].replace({'n°': 'numéro '}, regex=True)\n",
        "df['designation']=df['designation'].replace({'n°': 'numéro '}, regex=True)\n",
        "df['description']=df['description'].replace({\"'\": ' '}, regex=True)\n",
        "df['designation']=df['designation'].replace({\"'\": ' '}, regex=True)\n",
        "#classes_codes = (y['prdtypecode'].value_counts().index.tolist())\n",
        "df.head()"
      ],
      "execution_count": 30,
      "outputs": [
        {
          "output_type": "stream",
          "name": "stdout",
          "text": [
            "Taille du dataframe: 84916\n"
          ]
        },
        {
          "output_type": "execute_result",
          "data": {
            "text/html": [
              "<div>\n",
              "<style scoped>\n",
              "    .dataframe tbody tr th:only-of-type {\n",
              "        vertical-align: middle;\n",
              "    }\n",
              "\n",
              "    .dataframe tbody tr th {\n",
              "        vertical-align: top;\n",
              "    }\n",
              "\n",
              "    .dataframe thead th {\n",
              "        text-align: right;\n",
              "    }\n",
              "</style>\n",
              "<table border=\"1\" class=\"dataframe\">\n",
              "  <thead>\n",
              "    <tr style=\"text-align: right;\">\n",
              "      <th></th>\n",
              "      <th>designation</th>\n",
              "      <th>description</th>\n",
              "      <th>productid</th>\n",
              "      <th>prdtypecode</th>\n",
              "    </tr>\n",
              "  </thead>\n",
              "  <tbody>\n",
              "    <tr>\n",
              "      <th>0</th>\n",
              "      <td>olivia personalisiertes notizbuch 150 seiten p...</td>\n",
              "      <td></td>\n",
              "      <td>3804725264</td>\n",
              "      <td>1.0</td>\n",
              "    </tr>\n",
              "    <tr>\n",
              "      <th>1</th>\n",
              "      <td>journal arts numéro 133 28/09/2001 art marche ...</td>\n",
              "      <td></td>\n",
              "      <td>436067568</td>\n",
              "      <td>2.0</td>\n",
              "    </tr>\n",
              "    <tr>\n",
              "      <th>2</th>\n",
              "      <td>grand stylet ergonomique bleu gamepad nintendo...</td>\n",
              "      <td>pilot style touch pen marque speedlink stylet ...</td>\n",
              "      <td>201115110</td>\n",
              "      <td>3.0</td>\n",
              "    </tr>\n",
              "    <tr>\n",
              "      <th>3</th>\n",
              "      <td>peluche donald europe disneyland 2000 marionne...</td>\n",
              "      <td></td>\n",
              "      <td>50418756</td>\n",
              "      <td>4.0</td>\n",
              "    </tr>\n",
              "    <tr>\n",
              "      <th>4</th>\n",
              "      <td>guerre tuques</td>\n",
              "      <td>luc idées grandeur veut organiser jeu guerre b...</td>\n",
              "      <td>278535884</td>\n",
              "      <td>5.0</td>\n",
              "    </tr>\n",
              "  </tbody>\n",
              "</table>\n",
              "</div>"
            ],
            "text/plain": [
              "                                         designation  ... prdtypecode\n",
              "0  olivia personalisiertes notizbuch 150 seiten p...  ...         1.0\n",
              "1  journal arts numéro 133 28/09/2001 art marche ...  ...         2.0\n",
              "2  grand stylet ergonomique bleu gamepad nintendo...  ...         3.0\n",
              "3  peluche donald europe disneyland 2000 marionne...  ...         4.0\n",
              "4                                      guerre tuques  ...         5.0\n",
              "\n",
              "[5 rows x 4 columns]"
            ]
          },
          "metadata": {},
          "execution_count": 30
        }
      ]
    },
    {
      "cell_type": "code",
      "metadata": {
        "id": "EDjqambXiEIY"
      },
      "source": [
        "#on concatène les 2 champs texte\n",
        "\n",
        "from sklearn.model_selection import train_test_split\n",
        "#création dataset train / test \n",
        "df['sentences'] = df['designation'] + \" \" + df['description']\n",
        "\n",
        "#classes_codes = (y['prdtypecode'].value_counts().index.tolist())\n"
      ],
      "execution_count": 31,
      "outputs": []
    },
    {
      "cell_type": "code",
      "metadata": {
        "colab": {
          "base_uri": "https://localhost:8080/"
        },
        "id": "BSTWHzR24ANk",
        "outputId": "22d255eb-aa97-4697-b43b-d7657a4418ab"
      },
      "source": [
        "index=1\n",
        "print(df['designation'][index])\n",
        "print(df['description'][index])\n",
        "print(df['sentences'][index])"
      ],
      "execution_count": 32,
      "outputs": [
        {
          "output_type": "stream",
          "name": "stdout",
          "text": [
            "journal arts numéro 133 28/09/2001 art marche salon art asiatique paris jacques barrere francois perrier reforme ventes encheres publiques sna fete cent ans\n",
            "\n",
            "journal arts numéro 133 28/09/2001 art marche salon art asiatique paris jacques barrere francois perrier reforme ventes encheres publiques sna fete cent ans \n"
          ]
        }
      ]
    },
    {
      "cell_type": "code",
      "metadata": {
        "colab": {
          "base_uri": "https://localhost:8080/"
        },
        "id": "ycbz_3KkNRQd",
        "outputId": "1ec3f448-0ea2-46e5-86dd-1bbba8d5f82f"
      },
      "source": [
        "if Lemmatization:\n",
        "  pip install git+https://github.com/ClaudeCoulombe/FrenchLefffLemmatizer.git"
      ],
      "execution_count": null,
      "outputs": [
        {
          "output_type": "stream",
          "text": [
            "Collecting git+https://github.com/ClaudeCoulombe/FrenchLefffLemmatizer.git\n",
            "  Cloning https://github.com/ClaudeCoulombe/FrenchLefffLemmatizer.git to /tmp/pip-req-build-s4fx869y\n",
            "  Running command git clone -q https://github.com/ClaudeCoulombe/FrenchLefffLemmatizer.git /tmp/pip-req-build-s4fx869y\n",
            "Requirement already satisfied (use --upgrade to upgrade): FrenchLefffLemmatizer==0.3 from git+https://github.com/ClaudeCoulombe/FrenchLefffLemmatizer.git in /usr/local/lib/python3.7/dist-packages\n",
            "Building wheels for collected packages: FrenchLefffLemmatizer\n",
            "  Building wheel for FrenchLefffLemmatizer (setup.py) ... \u001b[?25l\u001b[?25hdone\n",
            "  Created wheel for FrenchLefffLemmatizer: filename=FrenchLefffLemmatizer-0.3-cp37-none-any.whl size=3533520 sha256=cbbb48a73856625a348b20984a26e8ca63b0fc5f92adf6d1d68d6c68a4a42e58\n",
            "  Stored in directory: /tmp/pip-ephem-wheel-cache-_3uoz758/wheels/95/b7/c0/e249ca2690c04f6106b9581c5e4111287f71dbd85bac903445\n",
            "Successfully built FrenchLefffLemmatizer\n"
          ],
          "name": "stdout"
        }
      ]
    },
    {
      "cell_type": "code",
      "metadata": {
        "colab": {
          "base_uri": "https://localhost:8080/"
        },
        "id": "sWQxc_Ogzyvt",
        "outputId": "35049d04-3b5f-4ff1-8d65-d7c78ee12563"
      },
      "source": [
        "#LEMMATIZATION (OPTIONNAL!! => -1% accuracy)\n",
        "def lemmatization(texte):\n",
        "    \"\"\"\n",
        "    Fonction pour transformer un texte en une suite de mots séparés par des espaces\n",
        "    et en excluant les stopwords et les mots de moins de 2 caractères\n",
        "    \"\"\"\n",
        "    mots = word_tokenize(texte, language='french')\n",
        "    tokens = []\n",
        "    for mot in mots:\n",
        "      if (len(mot)>1):\n",
        "        tokens.append(lemmatizer.lemmatize(mot))\n",
        "    return tokens\n",
        "\n",
        "if Lemmatization:\n",
        "  print(\"3 premiers articles avant lemmatization\")\n",
        "  print(sentences[0])\n",
        "  print(sentences[1])\n",
        "  print(sentences[2])\n",
        "  print(sentences[3])\n",
        "\n",
        "  from french_lefff_lemmatizer.french_lefff_lemmatizer import FrenchLefffLemmatizer\n",
        "  lemmatizer = FrenchLefffLemmatizer()\n",
        "  #https://github.com/ClaudeCoulombe/FrenchLefffLemmatizer\n",
        "\n",
        "  from nltk.tokenize import word_tokenize\n",
        "  import nltk as nltk\n",
        "  nltk.download('punkt') #télécharge les paquets language (dont FR)\n",
        "  \n",
        "  sentences= sentences.apply(lambda x: lemmatization(str(x)))\n",
        "  print(\"3 premiers articles APRES lemmatization\")\n",
        "  print(sentences[0])\n",
        "  print(sentences[1])\n",
        "  print(sentences[2])\n",
        "  print(sentences[3])"
      ],
      "execution_count": null,
      "outputs": [
        {
          "output_type": "stream",
          "text": [
            "3 premiers articles avant lemmatization\n",
            "olivia personalisiertes notizbuch 150 seiten punktraster ca din a5 rosen-design \n",
            "journal arts numéro  133 28/09/2001 l art marche salon d art asiatique paris jacques barrere francois perrier reforme ventes encheres publiques sna fete cent ans \n",
            "grand stylet ergonomique bleu gamepad nintendo wii speedlink pilot style pilot style touch pen marque speedlink stylet ergonomique gamepad nintendo wii u. confort optimal précision maximale gamepad wii grand stylet hautement ergonomique seulement parfaitement adapté main aussi très élégant livré support fixe sans adhésif l arrière gamepad caractéristiques modèle speedlink pilot style touch pen couleur bleu ref fabricant sl-3468-be compatibilité gamepad nintendo wii forme particulièrement ergonomique excellente tenue main pointe revêtement longue durée conçue abîmer l écran tactile bonus support inclu gamepad\n",
            "peluche donald europe disneyland 2000 marionnette doigt \n",
            "[nltk_data] Downloading package punkt to /root/nltk_data...\n",
            "[nltk_data]   Package punkt is already up-to-date!\n",
            "3 premiers articles APRES lemmatization\n",
            "['olivia', 'personalisiertes', 'notizbuch', '150', 'seiten', 'punktraster', 'ca', 'din', 'a5', 'rosen-design']\n",
            "['journal', 'art', 'numéro', '133', '28/09/2001', 'art', 'marche', 'salon', 'art', 'asiatique', 'pari', 'jacques', 'barrere', 'francois', 'perrier', 'reforme', 'vente', 'encheres', 'publiques', 'sna', 'fete', 'cent', 'an']\n",
            "['grand', 'stylet', 'ergonomique', 'bleu', 'gamepad', 'nintendo', 'wii', 'speedlink', 'pilot', 'style', 'pilot', 'style', 'touch', 'pen', 'marque', 'speedlink', 'stylet', 'ergonomique', 'gamepad', 'nintendo', 'wii', 'u.', 'confort', 'optimal', 'précision', 'maximale', 'gamepad', 'wii', 'grand', 'stylet', 'hautement', 'ergonomique', 'seulement', 'parfaitement', 'adapté', 'main', 'aussi', 'très', 'élégant', 'livré', 'support', 'fixe', 'sans', 'adhésif', 'arrière', 'gamepad', 'caractéristique', 'modèle', 'speedlink', 'pilot', 'style', 'touch', 'pen', 'couleur', 'bleu', 'ref', 'fabricant', 'sl-3468-be', 'compatibilité', 'gamepad', 'nintendo', 'wii', 'forme', 'particulièrement', 'ergonomique', 'excellente', 'tenue', 'main', 'pointe', 'revêtement', 'longue', 'durée', 'conçue', 'abîmer', 'écran', 'tactile', 'bonus', 'support', 'inclu', 'gamepad']\n",
            "['peluche', 'donald', 'europe', 'disneyland', '2000', 'marionnette', 'doigt']\n"
          ],
          "name": "stdout"
        }
      ]
    },
    {
      "cell_type": "code",
      "metadata": {
        "id": "Wdok2tODzzZS",
        "colab": {
          "base_uri": "https://localhost:8080/"
        },
        "outputId": "d538d11a-3a72-4ebe-8727-1b9828e27d3b"
      },
      "source": [
        "import numpy as np\n",
        "\n",
        "if (Ignore_X_test_challenge):\n",
        "  y = df['prdtypecode'].values\n",
        "  sentences_train, sentences_test, y_train, y_test = train_test_split(\n",
        "        df['sentences'], y, test_size=0.2, random_state=123)\n",
        "else:\n",
        "  df_train = df.dropna(subset=[\"prdtypecode\"], axis=0)\n",
        "  df_test = df[np.isnan(df[\"prdtypecode\"])]\n",
        "  y_train = df_train['prdtypecode'].values\n",
        "  y_test = None\n",
        "  sentences_train = df_train['sentences']\n",
        "  sentences_test = df_test['sentences']\n",
        "\n",
        "print(\"sentences train:\", len(sentences_train))\n",
        "print(\"sentences test:\", len(sentences_test)) "
      ],
      "execution_count": 33,
      "outputs": [
        {
          "output_type": "stream",
          "name": "stdout",
          "text": [
            "sentences train: 67932\n",
            "sentences test: 16984\n"
          ]
        }
      ]
    },
    {
      "cell_type": "code",
      "metadata": {
        "id": "Cbc01DWkpFMO"
      },
      "source": [
        "from keras.utils import np_utils\n",
        "y_train = np_utils.to_categorical(y_train, dtype = 'int') # Veiller à n'exécuter cette instruction qu'une seule fois\n",
        "if (not (y_test is None)):\n",
        "  y_test = np_utils.to_categorical(y_test, dtype = 'int')   # Veiller à n'exécuter cette instruction qu'une seule fois"
      ],
      "execution_count": 34,
      "outputs": []
    },
    {
      "cell_type": "code",
      "metadata": {
        "colab": {
          "base_uri": "https://localhost:8080/"
        },
        "id": "TVawmBeQitWE",
        "outputId": "3631f849-7232-4c28-85da-c3fa5a94d2ed"
      },
      "source": [
        "#Création du vocabulaire\n",
        "#Tokenization de X_train / X_test et transformation en séquences de mots du vocabulaire\n",
        "#   Vocabulary(Keys only) dans tokenizer : [\"'\", \"'cm'\", \"'couleur'\", \"'taille'\", \"'piscine'\", \"'plus'\", \"'peut'\", \"'haute'\", \"'qualité'\", \"'être'\", \"'1\", \"'dimensions'\", ...\n",
        "#   Article(texte + description) dans sentences_test/sentences_train: ['jeu', 'chaise', 'longue', 'pcs', 'textilène', 'noir', 'noir']\n",
        "#   Représentation de l'article dans X_test/X_train: [21, 288, 435, 494, 5449, 96, 96]\n",
        "\n",
        "#Note: Pay close attention to the difference between this technique and the X_train that was produced by scikit-learn’s CountVectorizer.\n",
        "#With CountVectorizer, we had stacked vectors of word counts, and each vector was the same length (the size of the total corpus vocabulary). \n",
        "#With Tokenizer, the resulting vectors equal the length of each text, and the numbers don’t denote counts\n",
        "#   , but rather correspond to the word values from the dictionary tokenizer.word_index.\n",
        "from keras.preprocessing.text import Tokenizer\n",
        "tokenizer = Tokenizer(num_words=20000)#default was 10000/best 20000\n",
        "tokenizer.fit_on_texts(sentences_train)\n",
        "X_train = tokenizer.texts_to_sequences(sentences_train)\n",
        "X_test = tokenizer.texts_to_sequences(sentences_test)\n",
        "vocab_size = len(tokenizer.word_index) + 1  # Adding 1 because of reserved 0 index\n",
        "print(sentences_train.shape)\n",
        "print(len(X_train))\n"
      ],
      "execution_count": 35,
      "outputs": [
        {
          "output_type": "stream",
          "name": "stdout",
          "text": [
            "(67932,)\n",
            "67932\n"
          ]
        }
      ]
    },
    {
      "cell_type": "code",
      "metadata": {
        "id": "h-s4qM8gztWg"
      },
      "source": [
        "#LONG !!! (optionnal)\n",
        "#print(f'Vocab : {list(tokenizer.word_index.keys())}')"
      ],
      "execution_count": null,
      "outputs": []
    },
    {
      "cell_type": "code",
      "metadata": {
        "colab": {
          "base_uri": "https://localhost:8080/"
        },
        "id": "rPgCtQhy796E",
        "outputId": "6015e7d6-e09a-4778-bb6e-08474466be3d"
      },
      "source": [
        "tokenizer.word_index[\"numéro\"]"
      ],
      "execution_count": 12,
      "outputs": [
        {
          "output_type": "execute_result",
          "data": {
            "text/plain": [
              "63"
            ]
          },
          "metadata": {},
          "execution_count": 12
        }
      ]
    },
    {
      "cell_type": "code",
      "metadata": {
        "colab": {
          "base_uri": "https://localhost:8080/"
        },
        "id": "doN-JZAIi7Gk",
        "outputId": "6193ff51-7d90-43db-aade-9f177b7f0c6e"
      },
      "source": [
        "#On complète chaque représentation d'article sous la forme [21, 288, 435, 494, 5449, 96, 96] en [21, 288, 435, 494, 5449, 96, 96, 0, 0, 0, ...]\n",
        "#pour conserver des tailles de phrases similaires\n",
        "from keras.preprocessing.sequence import pad_sequences\n",
        "maxlen = 400#defautl was 250, best 400\n",
        "X_train = pad_sequences(X_train, padding='post', maxlen=maxlen)\n",
        "X_test = pad_sequences(X_test, padding='post', maxlen=maxlen)\n",
        "print(\"X_train\", len(X_train))\n",
        "print(\"X_test\", len(X_test))"
      ],
      "execution_count": 36,
      "outputs": [
        {
          "output_type": "stream",
          "name": "stdout",
          "text": [
            "X_train 67932\n",
            "X_test 16984\n"
          ]
        }
      ]
    },
    {
      "cell_type": "code",
      "metadata": {
        "colab": {
          "base_uri": "https://localhost:8080/"
        },
        "id": "GqO7eD8ijIif",
        "outputId": "8abec8b1-6b39-43e6-85f4-ede6e2ba745b"
      },
      "source": [
        "#DNN1\n",
        "from keras.models import Sequential\n",
        "from keras import layers\n",
        "import keras\n",
        "from time import time\n",
        "# First, create an instance of this ReduceLROnPlateau class\n",
        "from keras.callbacks import ReduceLROnPlateau\n",
        "from keras.callbacks import ModelCheckpoint\n",
        "import tensorflow as tf\n",
        "# autosave best Model\n",
        "best_model_file = FilePathForHD5\n",
        "best_model = ModelCheckpoint(best_model_file, monitor='val_accuracy', verbose=1, save_best_only=True, mode='max')\n",
        "reduce_lr = ReduceLROnPlateau(monitor='val_loss', factor=0.1, patience=2, verbose=0, mode='auto', min_delta=0.0001, cooldown=0, min_lr=0.0001)\n",
        "\n",
        "t0 = time()\n",
        "embedding_dim = 48#BEST 100\n",
        "model = Sequential()\n",
        "model.add(layers.Embedding(input_dim=vocab_size, \n",
        "                           output_dim=embedding_dim, \n",
        "                           input_length=maxlen))\n",
        "#model.add(layers.GlobalMaxPooling1D())\n",
        "#model.add(Dropout(0.25))\n",
        "model.add(layers.Flatten())\n",
        "#model.add(layers.Dropout(0.25))\n",
        "#model.add(layers.Dense(300, activation='relu'))\n",
        "model.add(layers.Dense(48, activation='relu'))#BEST 100\n",
        "model.add(layers.Dropout(0.5)) #78.5 sans Dropout; 78.8 avec 0.25; 79.0 avec 0.5;\n",
        "model.add(layers.Dense(27, activation='softmax'))\n",
        "# last_layer = Dense(units = 27,\n",
        "#                      kernel_initializer ='normal',\n",
        "#                      activation ='softmax')\n",
        "model.compile(optimizer=tf.keras.optimizers.Adam(learning_rate=0.001), #0.001\n",
        "              loss='categorical_crossentropy',\n",
        "              metrics=['accuracy'])\n",
        "model.summary()\n",
        "if (Ignore_X_test_challenge):\n",
        "  history = model.fit(x=X_train, y=y_train,\n",
        "                    epochs=8,#5\n",
        "                    callbacks=[best_model],#reduce_lr, \n",
        "                    batch_size=200,\n",
        "                    validation_data=(X_test, y_test))\n",
        "else:\n",
        "  history = model.fit(X_train, y_train,\n",
        "                    epochs=5,#5\n",
        "                    batch_size=200)\n",
        "  \n",
        "\n",
        "print('Time for DNN1: {} mins'.format(round((time() - t0) / 60, 2)))"
      ],
      "execution_count": 39,
      "outputs": [
        {
          "output_type": "stream",
          "name": "stdout",
          "text": [
            "Model: \"sequential_8\"\n",
            "_________________________________________________________________\n",
            "Layer (type)                 Output Shape              Param #   \n",
            "=================================================================\n",
            "embedding_8 (Embedding)      (None, 400, 48)           7593312   \n",
            "_________________________________________________________________\n",
            "flatten_8 (Flatten)          (None, 19200)             0         \n",
            "_________________________________________________________________\n",
            "dense_16 (Dense)             (None, 48)                921648    \n",
            "_________________________________________________________________\n",
            "dropout_8 (Dropout)          (None, 48)                0         \n",
            "_________________________________________________________________\n",
            "dense_17 (Dense)             (None, 27)                1323      \n",
            "=================================================================\n",
            "Total params: 8,516,283\n",
            "Trainable params: 8,516,283\n",
            "Non-trainable params: 0\n",
            "_________________________________________________________________\n",
            "Epoch 1/8\n",
            "340/340 [==============================] - 42s 122ms/step - loss: 2.2216 - accuracy: 0.3580 - val_loss: 1.1228 - val_accuracy: 0.7130\n",
            "\n",
            "Epoch 00001: val_accuracy improved from -inf to 0.71297, saving model to /Drive/My Drive/Projet Rakuten/text-dnn-01-0.71.hdf5\n",
            "Epoch 2/8\n",
            "340/340 [==============================] - 41s 120ms/step - loss: 1.0234 - accuracy: 0.7107 - val_loss: 0.7488 - val_accuracy: 0.7823\n",
            "\n",
            "Epoch 00002: val_accuracy improved from 0.71297 to 0.78227, saving model to /Drive/My Drive/Projet Rakuten/text-dnn-02-0.78.hdf5\n",
            "Epoch 3/8\n",
            "340/340 [==============================] - 41s 121ms/step - loss: 0.7181 - accuracy: 0.7950 - val_loss: 0.6706 - val_accuracy: 0.8082\n",
            "\n",
            "Epoch 00003: val_accuracy improved from 0.78227 to 0.80817, saving model to /Drive/My Drive/Projet Rakuten/text-dnn-03-0.81.hdf5\n",
            "Epoch 4/8\n",
            "340/340 [==============================] - 42s 122ms/step - loss: 0.5601 - accuracy: 0.8393 - val_loss: 0.6516 - val_accuracy: 0.8141\n",
            "\n",
            "Epoch 00004: val_accuracy improved from 0.80817 to 0.81412, saving model to /Drive/My Drive/Projet Rakuten/text-dnn-04-0.81.hdf5\n",
            "Epoch 5/8\n",
            "340/340 [==============================] - 41s 122ms/step - loss: 0.4651 - accuracy: 0.8652 - val_loss: 0.6597 - val_accuracy: 0.8168\n",
            "\n",
            "Epoch 00005: val_accuracy improved from 0.81412 to 0.81683, saving model to /Drive/My Drive/Projet Rakuten/text-dnn-05-0.82.hdf5\n",
            "Epoch 6/8\n",
            "340/340 [==============================] - 42s 122ms/step - loss: 0.3910 - accuracy: 0.8876 - val_loss: 0.6830 - val_accuracy: 0.8162\n",
            "\n",
            "Epoch 00006: val_accuracy did not improve from 0.81683\n",
            "Epoch 7/8\n",
            "340/340 [==============================] - 41s 121ms/step - loss: 0.3283 - accuracy: 0.9058 - val_loss: 0.7076 - val_accuracy: 0.8167\n",
            "\n",
            "Epoch 00007: val_accuracy did not improve from 0.81683\n",
            "Epoch 8/8\n",
            "340/340 [==============================] - 41s 122ms/step - loss: 0.2863 - accuracy: 0.9168 - val_loss: 0.7505 - val_accuracy: 0.8171\n",
            "\n",
            "Epoch 00008: val_accuracy improved from 0.81683 to 0.81706, saving model to /Drive/My Drive/Projet Rakuten/text-dnn-08-0.82.hdf5\n",
            "Time for DNN1: 5.57 mins\n"
          ]
        }
      ]
    },
    {
      "cell_type": "code",
      "metadata": {
        "colab": {
          "base_uri": "https://localhost:8080/",
          "height": 371
        },
        "id": "T5M4MX_Isl5O",
        "outputId": "6c18c4f6-19ae-43d0-f654-cf5f118f4273"
      },
      "source": [
        "loss, accuracy = model.evaluate(X_train, y_train, verbose=False)\n",
        "print(\"Training Accuracy: {:.4f}\".format(accuracy))\n",
        "loss, accuracy = model.evaluate(X_test, y_test, verbose=False)\n",
        "print(\"Testing Accuracy:  {:.4f}\".format(accuracy))\n",
        "plot_history(history)"
      ],
      "execution_count": null,
      "outputs": [
        {
          "output_type": "stream",
          "text": [
            "Training Accuracy: 0.9738\n",
            "Testing Accuracy:  0.8227\n"
          ],
          "name": "stdout"
        },
        {
          "output_type": "display_data",
          "data": {
            "image/png": "[encoded data removed]",
            "text/plain": [
              "<Figure size 864x360 with 2 Axes>"
            ]
          },
          "metadata": {
            "tags": []
          }
        }
      ]
    },
    {
      "cell_type": "code",
      "metadata": {
        "colab": {
          "base_uri": "https://localhost:8080/"
        },
        "id": "e8l9E6Lv-rPT",
        "outputId": "cd4e98de-42e7-4e90-caaa-b9fbf830fc49"
      },
      "source": [
        "y_pred=model.predict(X_test)\n",
        "ypred_proba=model.predict_proba(X_test)"
      ],
      "execution_count": null,
      "outputs": [
        {
          "output_type": "stream",
          "text": [
            "/usr/local/lib/python3.7/dist-packages/tensorflow/python/keras/engine/sequential.py:425: UserWarning: `model.predict_proba()` is deprecated and will be removed after 2021-01-01. Please use `model.predict()` instead.\n",
            "  warnings.warn('`model.predict_proba()` is deprecated and '\n"
          ],
          "name": "stderr"
        }
      ]
    },
    {
      "cell_type": "code",
      "metadata": {
        "id": "_VRIak49mnYx"
      },
      "source": [
        "df_tosave=pd.DataFrame(ypred_proba)\n",
        "path = '/Drive/My Drive/Projet Rakuten'\n",
        "df_tosave.to_csv(f'{path}/ypred_proba_DnnText_score0_82.csv')"
      ],
      "execution_count": null,
      "outputs": []
    },
    {
      "cell_type": "code",
      "metadata": {
        "id": "l_jDdql13SWb"
      },
      "source": [
        "#CNN\n",
        "from time import time\n",
        "\n",
        "t0 = time()\n",
        "embedding_dim = 100\n",
        "\n",
        "model = Sequential()\n",
        "model.add(layers.Embedding(vocab_size, embedding_dim, input_length=maxlen))\n",
        "model.add(layers.Conv1D(128, 3, activation='relu'))\n",
        "model.add(layers.GlobalMaxPooling1D())\n",
        "model.add(layers.Dense(100, activation='relu'))\n",
        "model.add(layers.Dense(27, activation='softmax'))\n",
        "model.compile(optimizer=keras.optimizers.Adam(lr=0.001),\n",
        "              loss='categorical_crossentropy',\n",
        "              metrics=['accuracy'])\n",
        "model.summary()\n",
        "history = model.fit(X_train, y_train,\n",
        "                    epochs=5,\n",
        "                    #verbose=False,\n",
        "                    validation_data=(X_test, y_test),\n",
        "                    batch_size=200)\n",
        "\n",
        "print('Time for CNN: {} mins'.format(round((time() - t0) / 60, 2)))"
      ],
      "execution_count": null,
      "outputs": []
    },
    {
      "cell_type": "code",
      "metadata": {
        "id": "hOM6-KXF_-kb"
      },
      "source": [
        "#RNN\n",
        "from time import time\n",
        "\n",
        "t0 = time()\n",
        "embedding_dim = 100\n",
        "\n",
        "model = Sequential()\n",
        "model.add(layers.Embedding(vocab_size, embedding_dim, input_length=maxlen))\n",
        "model.add(layers.Bidirectional(layers.LSTM(64)))\n",
        "model.add(layers.Dense(100, activation='relu'))\n",
        "model.add(layers.Dense(27, activation='softmax'))\n",
        "model.compile(optimizer=keras.optimizers.Adam(lr=0.001),\n",
        "              loss='categorical_crossentropy',\n",
        "              metrics=['accuracy'])\n",
        "model.summary()\n",
        "history = model.fit(X_train, y_train,\n",
        "                    epochs=5,\n",
        "                    #verbose=False,\n",
        "                    validation_data=(X_test, y_test),\n",
        "                    batch_size=200)\n",
        "\n",
        "print('Time for RNN: {} mins'.format(round((time() - t0) / 60, 2)))"
      ],
      "execution_count": null,
      "outputs": []
    }
  ]
}